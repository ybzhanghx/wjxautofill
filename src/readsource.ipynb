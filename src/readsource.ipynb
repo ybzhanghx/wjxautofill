{
 "cells": [
  {
   "cell_type": "code",
   "execution_count": 1,
   "metadata": {
    "pycharm": {
     "is_executing": false,
     "name": "#%%\n"
    }
   },
   "outputs": [
    {
     "name": "stdout",
     "text": [
      "ok\n"
     ],
     "output_type": "stream"
    }
   ],
   "source": [
    "from selenium import webdriver\n",
    "from selenium.webdriver.common.by import By\n",
    "from selenium.common.exceptions import TimeoutException\n",
    "from selenium.webdriver.support import expected_conditions as EC\n",
    "from selenium.webdriver.support.wait import WebDriverWait\n",
    "from urllib.parse import quote\n",
    "from selenium.webdriver.support.expected_conditions import alert_is_present\n",
    "from selenium.webdriver.common.alert import Alert\n",
    "from pyquery import PyQuery as pq\n",
    "from lxml import etree\n",
    "print('ok')"
   ]
  },
  {
   "cell_type": "code",
   "execution_count": 2,
   "metadata": {
    "pycharm": {
     "is_executing": false,
     "name": "#%% \n"
    }
   },
   "outputs": [],
   "source": [
    "question_list_html = etree.parse('../data/questionlist.html',etree.HTMLParser())\n",
    "question_list = question_list_html.xpath('//*[@id=\"ctl02_ContentPlaceHolder1_divJoinData\"]//a/@href')\n",
    "t=map(lambda x:print(x),question_list)"
   ]
  },
  {
   "cell_type": "code",
   "execution_count": 4,
   "metadata": {
    "pycharm": {
     "is_executing": false,
     "name": "#%%\n"
    }
   },
   "outputs": [],
   "source": [
    "question_html = etree.parse('../data/models.html',etree.HTMLParser())\n"
   ]
  },
  {
   "cell_type": "code",
   "execution_count": 27,
   "metadata": {
    "pycharm": {
     "is_executing": false,
     "name": "#%%\n"
    }
   },
   "outputs": [
    {
     "name": "stdout",
     "text": [
      "ok\n[<Element table at 0x2afbbe39048>]\n"
     ],
     "output_type": "stream"
    }
   ],
   "source": [
    "res=question_html.xpath('//*[@id=\"divquestion7\"]/table[1]')\n",
    "if res:\n",
    "    print(\"ok\")\n",
    "res2=res[0].xpath('tbody/tr')\n",
    "#divquestion1\n",
    "print(res)\n",
    "# print(res)//*[@id=\"ctl00_ContentPlaceHolder1_JQ1_surveyContent\"]\n",
    "# //*[@id=\"divquestion7\"]/div[1]\n",
    "#res=question_html.xpath('//*[@id=\\\"divquestion7\\\"]//@class=\\\"inputtext\\\"')\n",
    "\n",
    "# t(res.text)//*[@id=\"ctl02_ContentPlaceHolder1_divJoinData\"]"
   ]
  },
  {
   "cell_type": "code",
   "execution_count": 20,
   "metadata": {
    "pycharm": {
     "is_executing": false,
     "name": "#%%\n"
    }
   },
   "outputs": [
    {
     "ename": "NameError",
     "evalue": "name 'htmls' is not defined",
     "traceback": [
      "\u001b[1;31m---------------------------------------------------------------------------\u001b[0m",
      "\u001b[1;31mNameError\u001b[0m                                 Traceback (most recent call last)",
      "\u001b[1;32m<ipython-input-20-fb04b2ee415f>\u001b[0m in \u001b[0;36m<module>\u001b[1;34m()\u001b[0m\n\u001b[1;32m----> 1\u001b[1;33m \u001b[0mres\u001b[0m\u001b[1;33m=\u001b[0m\u001b[0mhtmls\u001b[0m\u001b[1;33m.\u001b[0m\u001b[0mxpath\u001b[0m\u001b[1;33m(\u001b[0m\u001b[1;34m\"//*[@id=\\\"divTitle11\\\"]/span[2]\"\u001b[0m\u001b[1;33m)\u001b[0m\u001b[1;33m\u001b[0m\u001b[0m\n\u001b[0m\u001b[0;32m      2\u001b[0m \u001b[0mprint\u001b[0m\u001b[1;33m(\u001b[0m\u001b[0mres\u001b[0m\u001b[1;33m[\u001b[0m\u001b[1;36m0\u001b[0m\u001b[1;33m]\u001b[0m\u001b[1;33m.\u001b[0m\u001b[0m__dict__\u001b[0m\u001b[1;33m)\u001b[0m\u001b[1;33m\u001b[0m\u001b[0m\n",
      "\u001b[1;31mNameError\u001b[0m: name 'htmls' is not defined"
     ],
     "output_type": "error"
    }
   ],
   "source": [
    "res=htmls.xpath(\"//*[@id=\\\"divTitle11\\\"]/span[2]\")\n",
    "print(res[0].__dict__)"
   ]
  },
  {
   "cell_type": "code",
   "execution_count": null,
   "metadata": {},
   "outputs": [],
   "source": [
    "\n",
    "prin"
   ]
  }
 ],
 "metadata": {
  "kernelspec": {
   "display_name": "Python 3",
   "language": "python",
   "name": "python3"
  },
  "language_info": {
   "codemirror_mode": {
    "name": "ipython",
    "version": 3
   },
   "file_extension": ".py",
   "mimetype": "text/x-python",
   "name": "python",
   "nbconvert_exporter": "python",
   "pygments_lexer": "ipython3",
   "version": "3.6.4"
  },
  "pycharm": {
   "stem_cell": {
    "cell_type": "raw",
    "source": [],
    "metadata": {
     "collapsed": false
    }
   }
  }
 },
 "nbformat": 4,
 "nbformat_minor": 1
}