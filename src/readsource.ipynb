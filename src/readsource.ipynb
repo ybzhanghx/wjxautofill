{
 "cells": [
  {
   "cell_type": "code",
   "execution_count": 1,
   "outputs": [
    {
     "name": "stdout",
     "text": [
      "ok\n"
     ],
     "output_type": "stream"
    }
   ],
   "source": [
    "from selenium import webdriver\n",
    "from selenium.webdriver.common.by import By\n",
    "from selenium.common.exceptions import TimeoutException\n",
    "from selenium.webdriver.support import expected_conditions as EC\n",
    "from selenium.webdriver.support.wait import WebDriverWait\n",
    "from urllib.parse import quote\n",
    "from selenium.webdriver.support.expected_conditions import alert_is_present\n",
    "from selenium.webdriver.common.alert import Alert\n",
    "from pyquery import PyQuery as pq\n",
    "from lxml import etree\n",
    "print('ok')"
   ],
   "metadata": {
    "collapsed": false,
    "pycharm": {
     "name": "#%%\n",
     "is_executing": false
    }
   }
  },
  {
   "cell_type": "code",
   "source": [
    "question_list_html = etree.parse('../data/questionlist.html',etree.HTMLParser())\n",
    "question_list = question_list_html.xpath('//*[@id=\"ctl02_ContentPlaceHolder1_divJoinData\"]//a/@href')\n",
    "t=map(lambda x:print(x),question_list)"
   ],
   "metadata": {
    "collapsed": false,
    "pycharm": {
     "name": "#%% \n",
     "is_executing": false
    }
   },
   "execution_count": 27,
   "outputs": []
  },
  {
   "cell_type": "code",
   "execution_count": 29,
   "outputs": [],
   "source": [
    "question_html = etree.parse('../data/jq43413919aspxinviteid=g6y6LDWbHakQYNvonAnfew3d3d.html',etree.HTMLParser())\n"
   ],
   "metadata": {
    "collapsed": false,
    "pycharm": {
     "name": "#%%\n",
     "is_executing": false
    }
   }
  },
  {
   "cell_type": "code",
   "execution_count": 42,
   "outputs": [
    {
     "name": "stdout",
     "text": [
      "<Element span at 0x1cbf2f0b048>\n"
     ],
     "output_type": "stream"
    }
   ],
   "source": [
    "\n",
    "res=question_html.xpath(\"//*[@id=\\\"divTitle1\\\"]/span[1]\")\n",
    "print(res[0])\n",
    "# //*[@id=\"divquestion7\"]/div[1]\n",
    "res=question_html.xpath('//*[@id=\\\"divquestion7\\\"]//@class=\\\"inputtext\\\"')\n",
    "\n",
    "# print(res.text)//*[@id=\"ctl02_ContentPlaceHolder1_divJoinData\"]"
   ],
   "metadata": {
    "collapsed": false,
    "pycharm": {
     "name": "#%%\n",
     "is_executing": false
    }
   }
  },
  {
   "cell_type": "code",
   "execution_count": 17,
   "outputs": [
    {
     "name": "stdout",
     "text": [
      "{'class': 'qtypetip'}\n"
     ],
     "output_type": "stream"
    }
   ],
   "source": [
    "res=htmls.xpath(\"//*[@id=\\\"divTitle11\\\"]/span[2]\")\n",
    "print(res[0].attrib)"
   ],
   "metadata": {
    "collapsed": false,
    "pycharm": {
     "name": "#%%\n",
     "is_executing": false
    }
   }
  }
 ],
 "metadata": {
  "language_info": {
   "codemirror_mode": {
    "name": "ipython",
    "version": 2
   },
   "file_extension": ".py",
   "mimetype": "text/x-python",
   "name": "python",
   "nbconvert_exporter": "python",
   "pygments_lexer": "ipython2",
   "version": "2.7.6"
  },
  "kernelspec": {
   "name": "python3",
   "language": "python",
   "display_name": "Python 3"
  },
  "pycharm": {
   "stem_cell": {
    "cell_type": "raw",
    "source": [],
    "metadata": {
     "collapsed": false
    }
   }
  }
 },
 "nbformat": 4,
 "nbformat_minor": 0
}